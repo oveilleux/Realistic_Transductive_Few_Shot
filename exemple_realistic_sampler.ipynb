{
 "cells": [
  {
   "cell_type": "code",
   "execution_count": 1,
   "metadata": {
    "pycharm": {
     "name": "#%%\n"
    }
   },
   "outputs": [],
   "source": [
    "import torchvision\n",
    "\n",
    "from torch.utils.data import DataLoader\n",
    "\n",
    "# Import of our CategoriesSampler module\n",
    "from src.datasets.sampler import CategoriesSampler\n",
    "from src.utils import warp_tqdm"
   ]
  },
  {
   "cell_type": "code",
   "execution_count": 2,
   "metadata": {},
   "outputs": [
    {
     "name": "stderr",
     "output_type": "stream",
     "text": [
      "\r",
      "0it [00:00, ?it/s]"
     ]
    },
    {
     "name": "stdout",
     "output_type": "stream",
     "text": [
      "Downloading http://fashion-mnist.s3-website.eu-central-1.amazonaws.com/train-images-idx3-ubyte.gz to exemple_sampler_data/FashionMNIST/raw/train-images-idx3-ubyte.gz\n"
     ]
    },
    {
     "name": "stderr",
     "output_type": "stream",
     "text": [
      "26427392it [00:02, 9889390.90it/s]                               \n"
     ]
    },
    {
     "name": "stdout",
     "output_type": "stream",
     "text": [
      "Extracting exemple_sampler_data/FashionMNIST/raw/train-images-idx3-ubyte.gz\n"
     ]
    },
    {
     "name": "stderr",
     "output_type": "stream",
     "text": [
      "\r",
      "0it [00:00, ?it/s]"
     ]
    },
    {
     "name": "stdout",
     "output_type": "stream",
     "text": [
      "Downloading http://fashion-mnist.s3-website.eu-central-1.amazonaws.com/train-labels-idx1-ubyte.gz to exemple_sampler_data/FashionMNIST/raw/train-labels-idx1-ubyte.gz\n"
     ]
    },
    {
     "name": "stderr",
     "output_type": "stream",
     "text": [
      "32768it [00:00, 89457.69it/s]                            \n",
      "0it [00:00, ?it/s]"
     ]
    },
    {
     "name": "stdout",
     "output_type": "stream",
     "text": [
      "Extracting exemple_sampler_data/FashionMNIST/raw/train-labels-idx1-ubyte.gz\n",
      "Downloading http://fashion-mnist.s3-website.eu-central-1.amazonaws.com/t10k-images-idx3-ubyte.gz to exemple_sampler_data/FashionMNIST/raw/t10k-images-idx3-ubyte.gz\n"
     ]
    },
    {
     "name": "stderr",
     "output_type": "stream",
     "text": [
      "4423680it [00:01, 3533197.62it/s]                             \n"
     ]
    },
    {
     "name": "stdout",
     "output_type": "stream",
     "text": [
      "Extracting exemple_sampler_data/FashionMNIST/raw/t10k-images-idx3-ubyte.gz\n"
     ]
    },
    {
     "name": "stderr",
     "output_type": "stream",
     "text": [
      "\r",
      "0it [00:00, ?it/s]"
     ]
    },
    {
     "name": "stdout",
     "output_type": "stream",
     "text": [
      "Downloading http://fashion-mnist.s3-website.eu-central-1.amazonaws.com/t10k-labels-idx1-ubyte.gz to exemple_sampler_data/FashionMNIST/raw/t10k-labels-idx1-ubyte.gz\n"
     ]
    },
    {
     "name": "stderr",
     "output_type": "stream",
     "text": [
      "8192it [00:00, 25664.46it/s]            \n"
     ]
    },
    {
     "name": "stdout",
     "output_type": "stream",
     "text": [
      "Extracting exemple_sampler_data/FashionMNIST/raw/t10k-labels-idx1-ubyte.gz\n",
      "Processing...\n",
      "Done!\n"
     ]
    }
   ],
   "source": [
    "# Load test set\n",
    "test_set = torchvision.datasets.FashionMNIST(\n",
    "    root=\"exemple_sampler_data\",\n",
    "    train=False,\n",
    "    download=True,\n",
    "    transform=torchvision.transforms.ToTensor()\n",
    ")"
   ]
  },
  {
   "cell_type": "markdown",
   "metadata": {},
   "source": [
    "# Exemple of initializing our custom CategorySampler object and loading batches using Pytorch's DataLoader"
   ]
  },
  {
   "cell_type": "code",
   "execution_count": 3,
   "metadata": {
    "pycharm": {
     "name": "#%%\n"
    }
   },
   "outputs": [
    {
     "name": "stderr",
     "output_type": "stream",
     "text": [
      "100%|██████████| 1/1 [00:00<00:00,  3.22it/s]\n"
     ]
    }
   ],
   "source": [
    "### Get CategorySampler object ###\n",
    "\"\"\"\n",
    "        CategorySampler\n",
    "        inputs:\n",
    "            label : All labels of dataset\n",
    "            n_batch : Number of batches to load\n",
    "            n_cls : Number of classification ways (n_ways)\n",
    "            s_shot : Support shot \n",
    "            q_shot : Query shot (number of query shot per class we would have in the standard balanced setting (eg. 15))\n",
    "            balanced : 'balanced': Balanced query class distribution: Standard class balanced Few-Shot setting\n",
    "                       'dirichlet': Dirichlet's distribution over query data: Realisatic class imbalanced Few-Shot setting\n",
    "            alpha : Dirichlet's distribution concentration parameter\n",
    "\n",
    "        returns :\n",
    "            sampler : CategoriesSampler object that will yield batch when iterated\n",
    "\"\"\"\n",
    "sampler = CategoriesSampler(label=test_set.targets, n_batch=1, n_cls=5, s_shot=5, q_shot=15, balanced='dirichlet', alpha=2)\n",
    "\n",
    "# Get test loader\n",
    "test_loader = DataLoader(test_set, batch_sampler=sampler, num_workers=8, pin_memory=True)\n",
    "\n",
    "# Iterate over loader to get batch\n",
    "for i, (data, labels) in enumerate(warp_tqdm(test_loader, False)):\n",
    "  x = data      # x : torch.tensor [n_support + n_query, channel, H, W]\n",
    "                #     [support_data, query_data]    \n",
    "    \n",
    "  y = labels    # y: torch.tensor [n_support + n_query]\n",
    "                #    [support_labels, query_labels]\n",
    "                # Where : \n",
    "                #       Support data and labels class sequence is :\n",
    "                #           [a b c d e a b c d e a b c d e ...]\n",
    "                #       \n",
    "                #       Query data and labels class sequence is :\n",
    "                #           [a a a a a a a a b b b b b b b c c c c c d d d d d e e e e e ...]"
   ]
  }
 ],
 "metadata": {
  "kernelspec": {
   "display_name": "Python 3",
   "language": "python",
   "name": "python3"
  },
  "language_info": {
   "codemirror_mode": {
    "name": "ipython",
    "version": 3
   },
   "file_extension": ".py",
   "mimetype": "text/x-python",
   "name": "python",
   "nbconvert_exporter": "python",
   "pygments_lexer": "ipython3",
   "version": "3.6.9"
  },
  "pycharm": {
   "stem_cell": {
    "cell_type": "raw",
    "metadata": {
     "collapsed": false
    },
    "source": []
   }
  }
 },
 "nbformat": 4,
 "nbformat_minor": 1
}
